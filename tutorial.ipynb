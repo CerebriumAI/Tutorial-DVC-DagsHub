{
 "cells": [
  {
   "cell_type": "markdown",
   "metadata": {
    "id": "amnSfQ4S-im9"
   },
   "source": [
    "# Data Version Control and Experiment Tracking with DVC and Dagshub!"
   ]
  },
  {
   "cell_type": "markdown",
   "metadata": {},
   "source": [
    "In this tutorial, we will take a fraud detection model we have built with transaction data and learn how to version our dataset and track our experiments. We will use two tools to do this, DVC and DagsHub.\n",
    "\n",
    "Why do we need to version our data? Well simply put, we need to make sure that we can reproduce our experiments accurately. If we don't version our data, we can't guarantee that our experiments will be reproducible."
   ]
  },
  {
   "cell_type": "markdown",
   "metadata": {},
   "source": [
    "Prerequisites:\n",
    "- Install Docker\n",
    "- Install Python3.8+\n",
    "- Install JupyterLab\n",
    "- Install Git\n",
    "- Create a Github Account"
   ]
  },
  {
   "cell_type": "markdown",
   "metadata": {
    "id": "nY8jTgnQ_P08"
   },
   "source": [
    "By the end of this tutorial you will be able to:\n",
    "- Setup DVC for version controlling datasets and models\n",
    "- Link your GitHub repository to DagsHub\n",
    "- Use DagsHub to track your experiments\n",
    "  \n",
    "You should download the data required for this tutorial from [here](https://drive.google.com/file/d/1MidRYkLdAV-i0qytvsflIcKitK4atiAd/view?usp=sharing). This is originally from a [Kaggle dataset](https://www.kaggle.com/competitions/ieee-fraud-detection/data) for Fraud Detection. Place this dataset in a `data` directory in the root of your project. You can run this notebook either in VS Code or Jupyter Notebooks."
   ]
  },
  {
   "cell_type": "markdown",
   "metadata": {},
   "source": [
    "We will need a number of libraries for this tutorial so boot up a terminal and install them before you proceed.\n",
    "\n",
    "```bash\n",
    "pip -r requirements.txt\n",
    "```"
   ]
  },
  {
   "cell_type": "markdown",
   "metadata": {},
   "source": [
    "## Data Versioning with DVC"
   ]
  },
  {
   "cell_type": "markdown",
   "metadata": {},
   "source": [
    "DVC is a version control system for datasets and models. You can think of it like git, but allows you to version both large files and model files.\n",
    "\n",
    "Since you have forked this repo on github, you already have git version control active. You can now use DVC to version your data and models. Initialise DVC, and commit the changes DVC made to git.\n",
    "    \n",
    "```bash\n",
    "dvc init\n",
    "git commit -m \"Initialise DVC\"\n",
    "```\n",
    "\n",
    "Our git repo is now a DVC repo too!. Let's add the `data` directory we created to DVC.\n",
    "\n",
    "```bash\n",
    "dvc add data\n",
    "git add data.dvc .gitignore\n",
    "git commit -m \"Add data directory to DVC\"\n",
    "```\n",
    "\n",
    "Now push your changes to Github!\n",
    "```\n",
    "git push -u origin master\n",
    "```"
   ]
  },
  {
   "cell_type": "markdown",
   "metadata": {},
   "source": [
    "That's how can version your data and models with DVC! We now want a central remote repository that deals with DVC repos. Enter DagsHub."
   ]
  },
  {
   "cell_type": "markdown",
   "metadata": {},
   "source": [
    "## DagsHub Setup"
   ]
  },
  {
   "cell_type": "markdown",
   "metadata": {},
   "source": [
    "Navigate to [DagsHub](dagshub.com) and sign up for a free account. You can login with your Github account.\n",
    "\n",
    "You should be greeted with the following screen. Click the **Connect** button and select **Github**. \n",
    "\n",
    "![DagsHub Entry](media/dags_entry.png)\n",
    "\n",
    "You will be prompted to connect a Github repository. Search for repo fork in and connect! You'll be greeted with a familiar looking screen.\n",
    "\n",
    "![DagsHub Repo](media/dags_repo.png)"
   ]
  },
  {
   "cell_type": "markdown",
   "metadata": {},
   "source": [
    "If we want our data to be viewable in DagsHub, we need to add our dataset to DVC and set the DVC remote to our DagsHub repo.\n",
    "\n",
    "```bash\n",
    "dvc remote add origin --local <https://dagshub.com/><username>/<repo_name>.dvc\n",
    "```\n",
    "\n",
    "Now we need to tell DVC how to auth.\n",
    "\n",
    "```\n",
    "dvc remote modify origin --local auth basic\n",
    "dvc remote modify origin --local user <username>\n",
    "dvc remote modify origin --local ask_password true\n",
    "```\n",
    "\n",
    "Before you push your DVC repo, navigate to your DagsHub settings and create a *password* if you do not have one set. Then push! (It may take a while)\n",
    "```\n",
    "dvc push -r origin\n",
    "```\n",
    "\n",
    "You can now view your data in DagsHub. Our file is a little too big to view in the dashboard, bit you can view the raw file to verify it is working.\n",
    "\n",
    "To show you how this updates, let's add some more files to the data directory. Run the `preprocess.py` script to add some more files to generate train-test splits of the data to be used in training and testing.\n",
    "```\n",
    "python preprocess.py\n",
    "```\n",
    "\n",
    "This should generate 4 new files, `X_train.csv`, `X_test.csv`, `y_train.csv`, and `y_test.csv`. Add them to the dvc repo, commit and push.\n",
    "\n",
    "```\n",
    "dvc add data\n",
    "git add data.dvc\n",
    "git commit -m \"Add generate preprocessed dataframes\"\n",
    "git push -u origin master\n",
    "dvc push -r origin\n",
    "```\n"
   ]
  },
  {
   "cell_type": "markdown",
   "metadata": {},
   "source": [
    "## Experiment Tracking"
   ]
  },
  {
   "cell_type": "markdown",
   "metadata": {},
   "source": [
    "DagsHub doesn't only supply you with a remote DVC store, but also allows you to track your experiments along with your versioned code and data. We are going to modify the supplied file, `train.py`, to show how this is done. At the top of the file, add the following:\n",
    "\n",
    "```python\n",
    "...\n",
    "from xgboost import XGBClassifier\n",
    "import dagshub\n",
    "...\n",
    "```\n",
    "\n",
    "Now, we are going to wrap our training code in a `dagshub_logger` context manager. The logger has 2 methods, `log_hyperparams` and `log_metrics`, for logging hyperparameters and metrics respectively (duh). Modify the `XGBClassifier` and `.fit()` lines with one indent and wrap it in a `dagshub.dagshub_logger` object as such:\n",
    "```python\n",
    "...\n",
    "with dagshub.dagshub_logger() as logger:\n",
    "    xgb = XGBClassifier(\n",
    "        n_estimators=100,\n",
    "        learning_rate=0.1,\n",
    "        max_depth=3,\n",
    "        min_child_weight=1,\n",
    "        gamma=0,\n",
    "        subsample=0.8,\n",
    "        colsample_bytree=0.8,\n",
    "        objective=\"binary:logistic\",\n",
    "        nthread=4,\n",
    "        scale_pos_weight=1,\n",
    "        seed=27,\n",
    "    )\n",
    "\n",
    "    # Log your hyperparameters with DagsHub\n",
    "    logger.log_hyperparams(model_class=type(xgb).__name__)\n",
    "    logger.log_hyperparams({'model': xgb.get_params()})\n",
    "\n",
    "    model = xgb.fit(X_train, y_train)\n",
    "    y_pred = xgb.predict(X_test)\n",
    "\n",
    "    accuracy = round(accuracy_score(y_test, y_pred), 3)\n",
    "    roc_auc = round(roc_auc_score(y_test, y_pred), 3)\n",
    "    \n",
    "    # Log your metrics with DagsHub\n",
    "    logger.log_metrics(\n",
    "        {'accuracy': accuracy}\n",
    "    )\n",
    "    logger.log_metrics(\n",
    "        {'roc_auc': roc_auc}\n",
    "    )\n",
    "...\n",
    "```\n",
    "\n",
    "Save the changes and git commit. Time to run an experiment! Run your new modified training file:\n",
    "```bash\n",
    "python train.py\n",
    "```\n",
    "\n",
    "This creates 3 new files, our 2 DagsHub files `metrics.csv` and `params.yml`, and our model file `models/xgb-fraud-classifier.joblib`. Add the Dagshub files to the git repo, the model file to dvc, and commit. It is also a good idea to tag your commit with some sort of model version.\n",
    "```bash\n",
    "dvc add models\n",
    "git add metrics.csv params.yml models.dvc .gitignore\n",
    "git commit -m \"Train XGBoost model with OHE features, v0.1\"\n",
    "git tag -a \"v0.1\" -m \"xgb model v0.1\"\n",
    "git push -u origin master\n",
    "dvc push -r origin\n",
    "```\n",
    "\n",
    "You will see that now you can view your experiments in DagsHub under the **Experiments** tab.\n",
    "\n",
    "![DagsHub Experiments](media/dags_experiments.png)\n"
   ]
  },
  {
   "cell_type": "markdown",
   "metadata": {},
   "source": []
  }
 ],
 "metadata": {
  "colab": {
   "name": "explore.ipynb",
   "provenance": []
  },
  "kernelspec": {
   "display_name": "Python 3.8.13 ('dagshub')",
   "language": "python",
   "name": "python3"
  },
  "language_info": {
   "codemirror_mode": {
    "name": "ipython",
    "version": 3
   },
   "file_extension": ".py",
   "mimetype": "text/x-python",
   "name": "python",
   "nbconvert_exporter": "python",
   "pygments_lexer": "ipython3",
   "version": "3.8.13"
  },
  "orig_nbformat": 4,
  "vscode": {
   "interpreter": {
    "hash": "07b860c21ef0cbdcbcdef8e8b843e6c3698a6256580ce428119cee16b8298f72"
   }
  }
 },
 "nbformat": 4,
 "nbformat_minor": 0
}
